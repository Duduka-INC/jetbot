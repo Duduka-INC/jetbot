{
 "cells": [
  {
   "cell_type": "code",
   "execution_count": 7,
   "outputs": [
    {
     "name": "stdout",
     "output_type": "stream",
     "text": [
      "Socket successfully created\n"
     ]
    },
    {
     "ename": "OSError",
     "evalue": "[WinError 10048] Обычно разрешается только одно использование адреса сокета (протокол/сетевой адрес/порт)",
     "output_type": "error",
     "traceback": [
      "\u001B[1;31m---------------------------------------------------------------------------\u001B[0m",
      "\u001B[1;31mOSError\u001B[0m                                   Traceback (most recent call last)",
      "Cell \u001B[1;32mIn[7], line 18\u001B[0m\n\u001B[0;32m     11\u001B[0m port \u001B[38;5;241m=\u001B[39m \u001B[38;5;241m6666\u001B[39m\n\u001B[0;32m     13\u001B[0m \u001B[38;5;66;03m# Next bind to the port\u001B[39;00m\n\u001B[0;32m     14\u001B[0m \u001B[38;5;66;03m# we have not typed any ip in the ip field\u001B[39;00m\n\u001B[0;32m     15\u001B[0m \u001B[38;5;66;03m# instead we have inputted an empty string\u001B[39;00m\n\u001B[0;32m     16\u001B[0m \u001B[38;5;66;03m# this makes the server listen to requests\u001B[39;00m\n\u001B[0;32m     17\u001B[0m \u001B[38;5;66;03m# coming from other computers on the network\u001B[39;00m\n\u001B[1;32m---> 18\u001B[0m \u001B[43ms\u001B[49m\u001B[38;5;241;43m.\u001B[39;49m\u001B[43mbind\u001B[49m\u001B[43m(\u001B[49m\u001B[43m(\u001B[49m\u001B[38;5;124;43m'\u001B[39;49m\u001B[38;5;124;43m'\u001B[39;49m\u001B[43m,\u001B[49m\u001B[43m \u001B[49m\u001B[43mport\u001B[49m\u001B[43m)\u001B[49m\u001B[43m)\u001B[49m\n\u001B[0;32m     19\u001B[0m \u001B[38;5;28mprint\u001B[39m(\u001B[38;5;124m\"\u001B[39m\u001B[38;5;124msocket binded to \u001B[39m\u001B[38;5;132;01m%s\u001B[39;00m\u001B[38;5;124m\"\u001B[39m \u001B[38;5;241m%\u001B[39m (port))\n\u001B[0;32m     20\u001B[0m \u001B[38;5;28mprint\u001B[39m(socket\u001B[38;5;241m.\u001B[39mgethostbyname(socket\u001B[38;5;241m.\u001B[39mgethostname()))\n",
      "\u001B[1;31mOSError\u001B[0m: [WinError 10048] Обычно разрешается только одно использование адреса сокета (протокол/сетевой адрес/порт)"
     ]
    }
   ],
   "source": [
    "# first of all import the socket library\n",
    "import socket\n",
    "import random\n",
    "import time\n",
    "# next create a socket object\n",
    "s = socket.socket()\n",
    "print(\"Socket successfully created\")\n",
    "\n",
    "# reserve a port on your computer in our\n",
    "# case it is 12345 but it can be anything\n",
    "port = 6666\n",
    "\n",
    "# Next bind to the port\n",
    "# we have not typed any ip in the ip field\n",
    "# instead we have inputted an empty string\n",
    "# this makes the server listen to requests\n",
    "# coming from other computers on the network\n",
    "s.bind(('', port))\n",
    "print(\"socket binded to %s\" % (port))\n",
    "print(socket.gethostbyname(socket.gethostname()))\n",
    "# put the socket into listening mode\n",
    "s.listen()\n",
    "print(\"socket is listening\")\n",
    "c, addr = s.accept()\n",
    "print('Got connection from', addr)\n",
    "\n",
    "while True:\n",
    "    # Establish connection with client.\n",
    "\n",
    "    # send a thank you message to the client. encoding to send byte type.\n",
    "    #c.send(random.choice(arr).encode())\n",
    "    print(val := [random.uniform(-0.9, 0.9), random.uniform(-0.9, 0.9)].encode())\n",
    "    c.send(val)\n",
    "\n",
    "    # Close the connection with the client\n",
    "    # Breaking once connection closed\n",
    "    # break"
   ],
   "metadata": {
    "collapsed": false,
    "ExecuteTime": {
     "end_time": "2024-06-04T12:24:18.889793Z",
     "start_time": "2024-06-04T12:24:18.872652600Z"
    }
   },
   "id": "c36970d7545221eb"
  },
  {
   "cell_type": "code",
   "execution_count": null,
   "outputs": [],
   "source": [],
   "metadata": {
    "collapsed": false
   },
   "id": "cf17389b626cbba3"
  }
 ],
 "metadata": {
  "kernelspec": {
   "display_name": "Python 3",
   "language": "python",
   "name": "python3"
  },
  "language_info": {
   "codemirror_mode": {
    "name": "ipython",
    "version": 2
   },
   "file_extension": ".py",
   "mimetype": "text/x-python",
   "name": "python",
   "nbconvert_exporter": "python",
   "pygments_lexer": "ipython2",
   "version": "2.7.6"
  }
 },
 "nbformat": 4,
 "nbformat_minor": 5
}
